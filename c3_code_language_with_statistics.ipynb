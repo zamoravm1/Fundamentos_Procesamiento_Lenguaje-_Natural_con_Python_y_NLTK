{
  "nbformat": 4,
  "nbformat_minor": 0,
  "metadata": {
    "colab": {
      "provenance": [],
      "authorship_tag": "ABX9TyN2hPa6PwWdphtcMO7XJH08",
      "include_colab_link": true
    },
    "kernelspec": {
      "name": "python3",
      "display_name": "Python 3"
    },
    "language_info": {
      "name": "python"
    }
  },
  "cells": [
    {
      "cell_type": "markdown",
      "metadata": {
        "id": "view-in-github",
        "colab_type": "text"
      },
      "source": [
        "<a href=\"https://colab.research.google.com/github/zamoravm1/Fundamentos_Procesamiento_Lenguaje-_Natural_con_Python_y_NLTK/blob/master/c3_code_language_with_statistics.ipynb\" target=\"_parent\"><img src=\"https://colab.research.google.com/assets/colab-badge.svg\" alt=\"Open In Colab\"/></a>"
      ]
    },
    {
      "cell_type": "markdown",
      "source": [
        "# **Configuración inicial**"
      ],
      "metadata": {
        "id": "CR3er2A3YVIo"
      }
    },
    {
      "cell_type": "code",
      "execution_count": null,
      "metadata": {
        "id": "KvGrMMN2YJxD"
      },
      "outputs": [],
      "source": [
        "import nltk\n",
        "nltk.download('book')\n",
        "from nltk.book import *\n",
        "import matplotlib.pyplot as plt\n",
        "import numpy as np\n",
        "import pandas as pd\n",
        "import plotly.express as px"
      ]
    },
    {
      "cell_type": "markdown",
      "source": [
        "# **Bi-gramas**\n",
        "Parejas de palabras que ocurren consecutivas"
      ],
      "metadata": {
        "id": "0JDnPP9vYuWq"
      }
    },
    {
      "cell_type": "code",
      "source": [
        "md_bigrams=list(bigrams(text1))\n",
        "#distribución de probabilidades\n",
        "dfist=FreqDist(md_bigrams)"
      ],
      "metadata": {
        "id": "MIkpX3qrZSSE"
      },
      "execution_count": 8,
      "outputs": []
    }
  ]
}