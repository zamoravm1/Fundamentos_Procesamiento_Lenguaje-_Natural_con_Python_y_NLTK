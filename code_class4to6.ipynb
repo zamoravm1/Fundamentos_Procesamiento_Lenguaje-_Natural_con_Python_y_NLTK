{
  "nbformat": 4,
  "nbformat_minor": 0,
  "metadata": {
    "colab": {
      "provenance": [],
      "authorship_tag": "ABX9TyMQZLXWej5zYfnmTw2lQG6q",
      "include_colab_link": true
    },
    "kernelspec": {
      "name": "python3",
      "display_name": "Python 3"
    },
    "language_info": {
      "name": "python"
    }
  },
  "cells": [
    {
      "cell_type": "markdown",
      "metadata": {
        "id": "view-in-github",
        "colab_type": "text"
      },
      "source": [
        "<a href=\"https://colab.research.google.com/github/zamoravm1/Fundamentos_Procesamiento_Lenguaje-_Natural_con_Python_y_NLTK/blob/master/code_class_by_class.ipynb\" target=\"_parent\"><img src=\"https://colab.research.google.com/assets/colab-badge.svg\" alt=\"Open In Colab\"/></a>"
      ]
    },
    {
      "cell_type": "markdown",
      "source": [
        "# **CLASE 4: Configurar ambiente de trabajo**"
      ],
      "metadata": {
        "id": "2PhFcoh_HZox"
      }
    },
    {
      "cell_type": "markdown",
      "source": [
        "# **Configurar NLTK en Google Collab**"
      ],
      "metadata": {
        "id": "F2WcwruX41GQ"
      }
    },
    {
      "cell_type": "code",
      "execution_count": 2,
      "metadata": {
        "colab": {
          "base_uri": "https://localhost:8080/"
        },
        "id": "RfYRgSRF3a89",
        "outputId": "c6be1dba-8e37-4041-9ba7-1928938bf384"
      },
      "outputs": [
        {
          "output_type": "stream",
          "name": "stderr",
          "text": [
            "[nltk_data] Downloading package cess_esp to /root/nltk_data...\n",
            "[nltk_data]   Unzipping corpora/cess_esp.zip.\n"
          ]
        },
        {
          "output_type": "execute_result",
          "data": {
            "text/plain": [
              "True"
            ]
          },
          "metadata": {},
          "execution_count": 2
        }
      ],
      "source": [
        "#importar libreria nltk, para usar sistemas basados en reglas y estadística de corpus \n",
        "import nltk\n",
        "#descarga un corpus en español para el ejercicio\n",
        "nltk.download('cess_esp')"
      ]
    },
    {
      "cell_type": "markdown",
      "source": [
        "# **Expresiones regulares**\n",
        "\n",
        "*   Constituyen un lenguaje estandarizado para definir cadenas de búsqueda de texto.\n",
        "*   Líbreria de operaciones con expresiones regulares de Python re.\n",
        "* Reglas para escribir expresiones regulares.\n"
      ],
      "metadata": {
        "id": "ec_G1Lpw5EIx"
      }
    },
    {
      "cell_type": "code",
      "source": [
        "import re\n",
        "#corpus titulares de noticias en español\n",
        "corpus = nltk.corpus.cess_esp.sents()\n",
        "print(corpus)\n",
        "#[['El', 'grupo', 'estatal', 'Electricité_de_France', '-Fpa-', 'EDF', '-Fpt-',\n",
        "print(len(corpus))"
      ],
      "metadata": {
        "id": "SrUC4VRc32PK",
        "colab": {
          "base_uri": "https://localhost:8080/"
        },
        "outputId": "7c6ae823-2b04-4708-80fc-00a6a9053635"
      },
      "execution_count": 3,
      "outputs": [
        {
          "output_type": "stream",
          "name": "stdout",
          "text": [
            "[['El', 'grupo', 'estatal', 'Electricité_de_France', '-Fpa-', 'EDF', '-Fpt-', 'anunció', 'hoy', ',', 'jueves', ',', 'la', 'compra', 'del', '51_por_ciento', 'de', 'la', 'empresa', 'mexicana', 'Electricidad_Águila_de_Altamira', '-Fpa-', 'EAA', '-Fpt-', ',', 'creada', 'por', 'el', 'japonés', 'Mitsubishi_Corporation', 'para', 'poner_en_marcha', 'una', 'central', 'de', 'gas', 'de', '495', 'megavatios', '.'], ['Una', 'portavoz', 'de', 'EDF', 'explicó', 'a', 'EFE', 'que', 'el', 'proyecto', 'para', 'la', 'construcción', 'de', 'Altamira_2', ',', 'al', 'norte', 'de', 'Tampico', ',', 'prevé', 'la', 'utilización', 'de', 'gas', 'natural', 'como', 'combustible', 'principal', 'en', 'una', 'central', 'de', 'ciclo', 'combinado', 'que', 'debe', 'empezar', 'a', 'funcionar', 'en', 'mayo_del_2002', '.'], ...]\n",
            "6030\n"
          ]
        }
      ]
    },
    {
      "cell_type": "code",
      "source": [
        "# Flatten te ayuda a convertir el conjunto de listas en una sola\n",
        "# lo que está dentro de los corchetes es un doble for acortado\n",
        "# w-words l-listas\n",
        "# for l in corpus:\n",
        "# for w in l:\n",
        "flatten =[w for l in corpus for w in l]\n",
        "print(flatten[:100])"
      ],
      "metadata": {
        "colab": {
          "base_uri": "https://localhost:8080/"
        },
        "id": "xzpyBVh952u3",
        "outputId": "077853dc-0b79-44f8-a7e4-da3bb3a86924"
      },
      "execution_count": null,
      "outputs": [
        {
          "output_type": "stream",
          "name": "stdout",
          "text": [
            "['El', 'grupo', 'estatal', 'Electricité_de_France', '-Fpa-', 'EDF', '-Fpt-', 'anunció', 'hoy', ',', 'jueves', ',', 'la', 'compra', 'del', '51_por_ciento', 'de', 'la', 'empresa', 'mexicana']\n"
          ]
        }
      ]
    },
    {
      "cell_type": "markdown",
      "source": [
        "# **Clase 5: hacer búsquedas en el corpus**"
      ],
      "metadata": {
        "id": "qM_JQG1qHvqq"
      }
    },
    {
      "cell_type": "markdown",
      "source": [
        "# Estructura de la función re.search()\n",
        "Determina si el patrón de búsqueda p (expresión regular) esta contenido en la cadena s.\n",
        "\n",
        "re.search(p,s)"
      ],
      "metadata": {
        "id": "TZNha5jQ-B3y"
      }
    },
    {
      "cell_type": "code",
      "source": [
        "#expresión en cualquier lugar\n",
        "# words, for w in flatten, if ... contiene.\n",
        "arr= [w for w in flatten if re.search('es',w)]\n",
        "print(arr[:5])"
      ],
      "metadata": {
        "colab": {
          "base_uri": "https://localhost:8080/"
        },
        "id": "oN5-1R_U6VkU",
        "outputId": "2e55c5aa-cc83-4be5-d29e-d77bc20e918a"
      },
      "execution_count": null,
      "outputs": [
        {
          "output_type": "stream",
          "name": "stdout",
          "text": [
            "['estatal', 'jueves', 'empresa', 'centrales', 'francesa']\n"
          ]
        }
      ]
    },
    {
      "cell_type": "code",
      "source": [
        "#expresión al final de la palabra\n",
        "arr= [w for w in flatten if re.search('es$',w)]\n",
        "print(arr[:5])"
      ],
      "metadata": {
        "colab": {
          "base_uri": "https://localhost:8080/"
        },
        "id": "jEBNZ_ViALHQ",
        "outputId": "aec4be84-87f5-4803-b3cd-c32060a087ac"
      },
      "execution_count": null,
      "outputs": [
        {
          "output_type": "stream",
          "name": "stdout",
          "text": [
            "['jueves', 'centrales', 'millones', 'millones', 'dólares']\n"
          ]
        }
      ]
    },
    {
      "cell_type": "code",
      "source": [
        "#expresión al inicio de una palabra y que cumpla con una regla por rango.\n",
        "# Rango [a-z] [ghi] cualquier letra miniscula entre la a y la z, el segundo, cualquier letra entre ghi\n",
        "arr= [w for w in flatten if re.search('^[ghi]',w)]\n",
        "print(arr[:10])"
      ],
      "metadata": {
        "colab": {
          "base_uri": "https://localhost:8080/"
        },
        "id": "lAMEYMSUD1QO",
        "outputId": "af184803-e15b-4956-d261-e421cdd839ca"
      },
      "execution_count": null,
      "outputs": [
        {
          "output_type": "stream",
          "name": "stdout",
          "text": [
            "['grupo', 'hoy', 'gas', 'gas', 'intervendrá', 'invertir', 'gas', 'hoy', 'insulto', 'intervención']\n"
          ]
        }
      ]
    },
    {
      "cell_type": "code",
      "source": [
        "# Clausura\n",
        "# * repetir 0 o más veces\n",
        "# + repetir 1 o más veces\n",
        "arr = [w for w in flatten if re.search('^(no)+',w)]\n",
        "print(arr[:10])"
      ],
      "metadata": {
        "colab": {
          "base_uri": "https://localhost:8080/"
        },
        "id": "bIfVvFz4FGNu",
        "outputId": "3baef76c-da62-43b7-9b4c-9510479ff1a4"
      },
      "execution_count": null,
      "outputs": [
        {
          "output_type": "stream",
          "name": "stdout",
          "text": [
            "['norte', 'no', 'no', 'noche', 'no', 'no', 'notificación', 'no', 'no', 'no']\n"
          ]
        }
      ]
    },
    {
      "cell_type": "markdown",
      "source": [
        "# **Clase 6: Normalización con Expresiones Regulares**"
      ],
      "metadata": {
        "id": "dBXDNO5sICPJ"
      }
    },
    {
      "cell_type": "markdown",
      "source": [
        "#**Normalización de texto**"
      ],
      "metadata": {
        "id": "4TUJ7A-eF6zf"
      }
    },
    {
      "cell_type": "code",
      "source": [
        "#raw\n",
        "#interpreta como texto plano todo lo que se encuentre dentro\n",
        "print(r'esta es \\n una prueba')"
      ],
      "metadata": {
        "colab": {
          "base_uri": "https://localhost:8080/"
        },
        "id": "fLr_IumsF4Fv",
        "outputId": "05eb982a-2b7a-4be6-f71c-da45ae1ce09d"
      },
      "execution_count": null,
      "outputs": [
        {
          "output_type": "stream",
          "name": "stdout",
          "text": [
            "esta es \\n una prueba\n"
          ]
        }
      ]
    },
    {
      "cell_type": "markdown",
      "source": [
        "**Tokenización**"
      ],
      "metadata": {
        "id": "oYGeSWH3GPmv"
      }
    },
    {
      "cell_type": "code",
      "source": [
        "texto = \"\"\" Cuando sea el rey del mundo  (imaginaba él en su cabeza) no tendré que  preocuparme por estas bobadas. \n",
        "            Era solo un niño de 7 años, pero pensaba que podría ser cualquier cosa que su imaginación le permitiera visualizar en su cabeza ...\"\"\""
      ],
      "metadata": {
        "id": "u_Z56fV7GOnY"
      },
      "execution_count": 5,
      "outputs": []
    },
    {
      "cell_type": "code",
      "source": [
        "# Caso 1: tokenizar por espacios vacios\n",
        "print(re.split(r' ',texto))"
      ],
      "metadata": {
        "id": "WOGB1FgAIyFL",
        "outputId": "dfb9f8af-ac1a-4c63-b64a-5499365ba37c",
        "colab": {
          "base_uri": "https://localhost:8080/"
        }
      },
      "execution_count": 6,
      "outputs": [
        {
          "output_type": "stream",
          "name": "stdout",
          "text": [
            "['', 'Cuando', 'sea', 'el', 'rey', 'del', 'mundo', '', '(imaginaba', 'él', 'en', 'su', 'cabeza)', 'no', 'tendré', 'que', '', 'preocuparme', 'por', 'estas', 'bobadas.', '\\n', '', '', '', '', '', '', '', '', '', '', '', 'Era', 'solo', 'un', 'niño', 'de', '7', 'años,', 'pero', 'pensaba', 'que', 'podría', 'ser', 'cualquier', 'cosa', 'que', 'su', 'imaginación', 'le', 'permitiera', 'visualizar', 'en', 'su', 'cabeza', '...']\n"
          ]
        }
      ]
    },
    {
      "cell_type": "code",
      "source": [
        "# Caso 2: usando expresiones regulares\n",
        "# quitar espacios vacios, tabulaciones, nuevas líneas, y puede suceder varias veces (por eso el +)\n",
        "print(re.split(r'[ \\t\\n]+',texto))"
      ],
      "metadata": {
        "id": "u9c9HdDoJWiN",
        "outputId": "54a34fd4-72e9-43d3-ee3f-6f66f4fc8079",
        "colab": {
          "base_uri": "https://localhost:8080/"
        }
      },
      "execution_count": 8,
      "outputs": [
        {
          "output_type": "stream",
          "name": "stdout",
          "text": [
            "['', 'Cuando', 'sea', 'el', 'rey', 'del', 'mundo', '(imaginaba', 'él', 'en', 'su', 'cabeza)', 'no', 'tendré', 'que', 'preocuparme', 'por', 'estas', 'bobadas.', 'Era', 'solo', 'un', 'niño', 'de', '7', 'años,', 'pero', 'pensaba', 'que', 'podría', 'ser', 'cualquier', 'cosa', 'que', 'su', 'imaginación', 'le', 'permitiera', 'visualizar', 'en', 'su', 'cabeza', '...']\n"
          ]
        }
      ]
    },
    {
      "cell_type": "code",
      "source": [
        "# Caso 3: usando expresiones regulares\n",
        "# agregamos un caracter especial para pabras \\W, ya no aparecen por ejemplo parentesis.\n",
        "print(re.split(r'[ \\W\\t\\n]+',texto))"
      ],
      "metadata": {
        "id": "ShMl1CG2Jm-n",
        "outputId": "da73fb95-1c6b-4916-8972-570010cde554",
        "colab": {
          "base_uri": "https://localhost:8080/"
        }
      },
      "execution_count": 9,
      "outputs": [
        {
          "output_type": "stream",
          "name": "stdout",
          "text": [
            "['', 'Cuando', 'sea', 'el', 'rey', 'del', 'mundo', 'imaginaba', 'él', 'en', 'su', 'cabeza', 'no', 'tendré', 'que', 'preocuparme', 'por', 'estas', 'bobadas', 'Era', 'solo', 'un', 'niño', 'de', '7', 'años', 'pero', 'pensaba', 'que', 'podría', 'ser', 'cualquier', 'cosa', 'que', 'su', 'imaginación', 'le', 'permitiera', 'visualizar', 'en', 'su', 'cabeza', '']\n"
          ]
        }
      ]
    },
    {
      "cell_type": "markdown",
      "source": [
        "## **Tokenizador de NLTK**"
      ],
      "metadata": {
        "id": "EWiuA6IIKRB-"
      }
    },
    {
      "cell_type": "code",
      "source": [
        "\n",
        "texto = 'En los E.U. esa postal vale $15.50 ...'\n",
        "# nuestra antigua regex no funciona en este caso, omite E.U. como una\n",
        "# sola expresión y también omite el signo $: \n",
        "# print(re.split(r'[ \\W\\t\\n]+', texto))"
      ],
      "metadata": {
        "id": "3R--4nowKH8L"
      },
      "execution_count": 12,
      "outputs": []
    },
    {
      "cell_type": "code",
      "source": [
        "pattern = r'''(?x)                 # set flag to allow verbose regexps\n",
        "              (?:[A-Z]\\.)+         # abbreviations, e.g. U.S.A.\n",
        "              | \\w+(?:-\\w+)*       # words with optional internal hyphens\n",
        "              | \\$?\\d+(?:\\.\\d+)?%? # currency and percentages, e.g. $12.40, 82%\n",
        "              | \\.\\.\\.             # ellipsis\n",
        "              | [][.,;\"'?():-_`]   # these are separate tokens; includes ], [\n",
        "'''\n",
        "# estamos utilizando una expresión regular muy fancy\n",
        "nltk.regexp_tokenize(texto, pattern)"
      ],
      "metadata": {
        "id": "BFuFPT4RKivo",
        "outputId": "e168812e-ff4f-4826-b275-bcf2d5903566",
        "colab": {
          "base_uri": "https://localhost:8080/"
        }
      },
      "execution_count": 13,
      "outputs": [
        {
          "output_type": "execute_result",
          "data": {
            "text/plain": [
              "['En', 'los', 'E.U.', 'esa', 'postal', 'vale', '$15.50', '...']"
            ]
          },
          "metadata": {},
          "execution_count": 13
        }
      ]
    }
  ]
}
