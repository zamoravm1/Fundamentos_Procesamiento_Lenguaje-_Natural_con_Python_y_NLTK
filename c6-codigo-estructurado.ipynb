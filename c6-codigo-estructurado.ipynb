{
  "nbformat": 4,
  "nbformat_minor": 0,
  "metadata": {
    "colab": {
      "provenance": [],
      "authorship_tag": "ABX9TyOLw8VobatulC7xE1kx5LRl",
      "include_colab_link": true
    },
    "kernelspec": {
      "name": "python3",
      "display_name": "Python 3"
    },
    "language_info": {
      "name": "python"
    }
  },
  "cells": [
    {
      "cell_type": "markdown",
      "metadata": {
        "id": "view-in-github",
        "colab_type": "text"
      },
      "source": [
        "<a href=\"https://colab.research.google.com/github/zamoravm1/Fundamentos_Procesamiento_Lenguaje-_Natural_con_Python_y_NLTK/blob/master/c6-codigo-estructurado.ipynb\" target=\"_parent\"><img src=\"https://colab.research.google.com/assets/colab-badge.svg\" alt=\"Open In Colab\"/></a>"
      ]
    },
    {
      "cell_type": "markdown",
      "source": [
        "# Código structurado\n",
        "\n",
        "\n",
        "Líneas de código para hacerlo con google drive:\n",
        "\n",
        "```\n",
        "from google.colab import drive\n",
        "drive.mount('/content/drive')\n",
        "\n",
        "filepath= '/content/drive/...'\n",
        "```\n",
        "\n",
        "\n"
      ],
      "metadata": {
        "id": "xN55QqW6ucoP"
      }
    },
    {
      "cell_type": "code",
      "execution_count": null,
      "metadata": {
        "id": "SP2IdVG7uPpN"
      },
      "outputs": [],
      "source": [
        "import re\n",
        "def get_text(file):\n",
        "\n",
        "  return text"
      ]
    }
  ]
}