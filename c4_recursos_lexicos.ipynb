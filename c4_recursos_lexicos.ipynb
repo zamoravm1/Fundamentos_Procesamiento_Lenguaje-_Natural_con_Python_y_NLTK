{
  "nbformat": 4,
  "nbformat_minor": 0,
  "metadata": {
    "colab": {
      "provenance": [],
      "authorship_tag": "ABX9TyNUpiXlPuVvAFrREex8ODTH",
      "include_colab_link": true
    },
    "kernelspec": {
      "name": "python3",
      "display_name": "Python 3"
    },
    "language_info": {
      "name": "python"
    }
  },
  "cells": [
    {
      "cell_type": "markdown",
      "metadata": {
        "id": "view-in-github",
        "colab_type": "text"
      },
      "source": [
        "<a href=\"https://colab.research.google.com/github/zamoravm1/Fundamentos_Procesamiento_Lenguaje-_Natural_con_Python_y_NLTK/blob/master/c4_recursos_lexicos.ipynb\" target=\"_parent\"><img src=\"https://colab.research.google.com/assets/colab-badge.svg\" alt=\"Open In Colab\"/></a>"
      ]
    },
    {
      "cell_type": "markdown",
      "source": [
        "# Recursos léxicos (lexicons)\n",
        "\n",
        "Son colecciones de palabras o frases que tienen asociadas etiquetas o meta-informacion de algún tipo (POS tags, significados gramaticales, etc ...)\n",
        "\n",
        "**comentario:** POS (Part of Speech), también llamado etiquetado gramatical o etiquetado de palabras por categorias, consiste en etiquetar la categoria gramatical a la que pertence cada palabra en un volumen de texto, siendo las categorias:\n",
        "\n",
        "Sustantivos\n",
        "Adjetivos\n",
        "Articulos\n",
        "Pronombres\n",
        "Verbos\n",
        "Adverbios\n",
        "Interjecciones\n",
        "Preposiciones\n",
        "Conjunciones"
      ],
      "metadata": {
        "id": "kkNKlRLED6TN"
      }
    },
    {
      "cell_type": "code",
      "execution_count": null,
      "metadata": {
        "id": "DOs4zuz-Ds6Q"
      },
      "outputs": [],
      "source": [
        "# Configuración inicial\n",
        "import nltk\n",
        "nltk.download('book')\n",
        "from nltk.book import*\n",
        "from nltk.corpus import stopwords"
      ]
    },
    {
      "cell_type": "code",
      "source": [
        "# Vocabularios: palabras únicas en un corpus\n",
        "vocab = sorted(set(text1))\n",
        "vocab\n",
        "# estos son recursos léxicos no enriquecidos. no tienen significado."
      ],
      "metadata": {
        "id": "JsRVcWi9E_VW"
      },
      "execution_count": null,
      "outputs": []
    },
    {
      "cell_type": "code",
      "source": [
        "# Distribuciones: frecuencias de aparición\n",
        "word_freq = FreqDist(text1)\n",
        "# recurso léxico enriquecido porque contiene información de las palabras."
      ],
      "metadata": {
        "id": "ofyB4ZEXFd3p"
      },
      "execution_count": null,
      "outputs": []
    },
    {
      "cell_type": "code",
      "source": [
        "#stopwords: palabras muy usadas que no útiles para NLP.\n",
        "stopwords.words('spanish')\n",
        "# lexicon no enriquecido"
      ],
      "metadata": {
        "id": "3iPdv6M1F3H3"
      },
      "execution_count": null,
      "outputs": []
    },
    {
      "cell_type": "markdown",
      "source": [
        "## Fraccion de StopWords en un corpus"
      ],
      "metadata": {
        "id": "rVE40XXLDtlc"
      }
    },
    {
      "cell_type": "code",
      "source": [
        "def stopwords_percentage(text):\n",
        "  stopwd = stopwords.words('english')\n",
        "  # w.lower colocar palabra en minuscula para no contar 2 veces palabras con este tipo de variaciones.\n",
        "  # verifica queno haga parte de la lista stopwords\n",
        "  content = [w for w in text if w.lower() not in stopwd]\n",
        "  return len(content)/len(text)"
      ],
      "metadata": {
        "id": "XrH4gxkxGdue"
      },
      "execution_count": 5,
      "outputs": []
    },
    {
      "cell_type": "code",
      "source": [
        "#saber qué porcentaje de palabras del texto que son utiles\n",
        "# que no son stopwords\n",
        "stopwords_percentage(text1)"
      ],
      "metadata": {
        "colab": {
          "base_uri": "https://localhost:8080/"
        },
        "id": "1IdsaU2FINX3",
        "outputId": "599dd289-9d91-49d7-e586-c1b841a6fa77"
      },
      "execution_count": 6,
      "outputs": [
        {
          "output_type": "execute_result",
          "data": {
            "text/plain": [
              "0.5862954769399469"
            ]
          },
          "metadata": {},
          "execution_count": 6
        }
      ]
    },
    {
      "cell_type": "code",
      "source": [],
      "metadata": {
        "id": "8tOh1aNdIZ-R"
      },
      "execution_count": null,
      "outputs": []
    }
  ]
}